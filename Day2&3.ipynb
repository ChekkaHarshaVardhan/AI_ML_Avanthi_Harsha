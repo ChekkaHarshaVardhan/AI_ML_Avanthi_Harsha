{
  "nbformat": 4,
  "nbformat_minor": 0,
  "metadata": {
    "colab": {
      "provenance": [],
      "authorship_tag": "ABX9TyP7ZM+Iv05N6RnDaTqm/NqG",
      "include_colab_link": true
    },
    "kernelspec": {
      "name": "python3",
      "display_name": "Python 3"
    },
    "language_info": {
      "name": "python"
    }
  },
  "cells": [
    {
      "cell_type": "markdown",
      "metadata": {
        "id": "view-in-github",
        "colab_type": "text"
      },
      "source": [
        "<a href=\"https://colab.research.google.com/github/ChekkaHarshaVardhan/AI_ML_Avanthi_Harsha/blob/main/Day2%263.ipynb\" target=\"_parent\"><img src=\"https://colab.research.google.com/assets/colab-badge.svg\" alt=\"Open In Colab\"/></a>"
      ]
    },
    {
      "cell_type": "code",
      "execution_count": 12,
      "metadata": {
        "colab": {
          "base_uri": "https://localhost:8080/"
        },
        "id": "OTWGPAvg_jx1",
        "outputId": "2c6bba71-ac02-4e8c-dcc7-9953accc1f61"
      },
      "outputs": [
        {
          "output_type": "stream",
          "name": "stdout",
          "text": [
            "1 \n",
            "\n",
            "2 3 \n",
            "\n",
            "4 5 6 \n",
            "\n",
            "7 8 9 10 \n",
            "\n"
          ]
        }
      ],
      "source": [
        "count=1\n",
        "for i in range(1,5):\n",
        "  for j in range(i):\n",
        "    print(count,end=\" \")\n",
        "    count +=1\n",
        "  print(\"\\n\")\n"
      ]
    },
    {
      "cell_type": "code",
      "source": [
        "for i in range(5,0,-1):\n",
        "  print(\" \")\n",
        "  for j in range(i):\n",
        "    print(\"*\",end=\" \")\n",
        "print(\"\\n\")\n"
      ],
      "metadata": {
        "colab": {
          "base_uri": "https://localhost:8080/"
        },
        "id": "N6QAwV3ZBxNI",
        "outputId": "1d020bfc-2a76-4eb7-f99c-e7a3c76049c8"
      },
      "execution_count": 13,
      "outputs": [
        {
          "output_type": "stream",
          "name": "stdout",
          "text": [
            " \n",
            "* * * * *  \n",
            "* * * *  \n",
            "* * *  \n",
            "* *  \n",
            "* \n",
            "\n"
          ]
        }
      ]
    },
    {
      "cell_type": "code",
      "source": [
        "count = 2\n",
        "for i in range(4,0,-1):\n",
        "  for j in range(i):\n",
        "    print(count,end=\" \")\n",
        "    count+=2\n",
        "  print(\"\\n\")\n",
        ""
      ],
      "metadata": {
        "colab": {
          "base_uri": "https://localhost:8080/"
        },
        "id": "H40vF2jHCVec",
        "outputId": "504a9b9a-bfca-4ff9-e024-1b75b39b0dbd"
      },
      "execution_count": 14,
      "outputs": [
        {
          "output_type": "stream",
          "name": "stdout",
          "text": [
            "2 4 6 8 \n",
            "\n",
            "10 12 14 \n",
            "\n",
            "16 18 \n",
            "\n",
            "20 \n",
            "\n"
          ]
        }
      ]
    },
    {
      "cell_type": "code",
      "source": [
        "n=[1,32,24,13,97,1,8,14,99,34,5,56,8,23]\n",
        "sum=0\n",
        "for i in n:\n",
        "   if i%2==0:\n",
        "     sum += i\n",
        "print(sum)"
      ],
      "metadata": {
        "colab": {
          "base_uri": "https://localhost:8080/"
        },
        "id": "CRBNEWApCdj_",
        "outputId": "d8aa002e-67f6-4b09-a2b6-eaee313d328d"
      },
      "execution_count": 15,
      "outputs": [
        {
          "output_type": "stream",
          "name": "stdout",
          "text": [
            "176\n"
          ]
        }
      ]
    },
    {
      "cell_type": "code",
      "source": [
        "my_dict={\n",
        "\"name\":\"madhav\",\n",
        "\"age\":22,\n",
        "\"phonenumber\":8374229100,\n",
        "\"favorite food\":\"chicken\"\n",
        "}\n",
        "print(my_dict)"
      ],
      "metadata": {
        "colab": {
          "base_uri": "https://localhost:8080/"
        },
        "id": "cWFcB2qjCky8",
        "outputId": "2a9b97cc-5d13-4373-a7e2-9a10b6fc433c"
      },
      "execution_count": 16,
      "outputs": [
        {
          "output_type": "stream",
          "name": "stdout",
          "text": [
            "{'name': 'madhav', 'age': 22, 'phonenumber': 8374229100, 'favorite food': 'chicken'}\n"
          ]
        }
      ]
    },
    {
      "cell_type": "code",
      "source": [
        "x=[3,3,5,5,3,3,7,7,5,3,7,5]\n",
        "dict={}\n",
        "distinct=set(x)\n",
        "for i in distinct:\n",
        "  dict[i]=0\n",
        "for i in range (len(x)):\n",
        "   dict[x[i]]+=1\n",
        "print(dict)"
      ],
      "metadata": {
        "colab": {
          "base_uri": "https://localhost:8080/"
        },
        "id": "lDzsVQN3CqVe",
        "outputId": "5b56a236-57d7-472b-d2d8-1d6083c2a679"
      },
      "execution_count": 17,
      "outputs": [
        {
          "output_type": "stream",
          "name": "stdout",
          "text": [
            "{3: 5, 5: 4, 7: 3}\n"
          ]
        }
      ]
    }
  ]
}